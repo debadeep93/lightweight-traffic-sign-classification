{
  "nbformat": 4,
  "nbformat_minor": 0,
  "metadata": {
    "kernelspec": {
      "language": "python",
      "display_name": "Python 3",
      "name": "python3"
    },
    "language_info": {
      "name": "python",
      "version": "3.7.6",
      "mimetype": "text/x-python",
      "codemirror_mode": {
        "name": "ipython",
        "version": 3
      },
      "pygments_lexer": "ipython3",
      "nbconvert_exporter": "python",
      "file_extension": ".py"
    },
    "colab": {
      "name": "student.ipynb",
      "provenance": []
    }
  },
  "cells": [
    {
      "cell_type": "markdown",
      "metadata": {
        "id": "FPL0nEaqMW7B",
        "colab_type": "text"
      },
      "source": [
        "# Student Network"
      ]
    },
    {
      "cell_type": "code",
      "metadata": {
        "id": "Ali142yXsgxd",
        "trusted": true,
        "colab_type": "code",
        "colab": {}
      },
      "source": [
        "import torch as torch\n",
        "import torch.optim as optim\n",
        "import os\n",
        "import torchvision\n",
        "import torch.nn as nn\n",
        "from torch.autograd import Variable as var\n",
        "from gtsrb_dataset import GTSRB\n",
        "import logging as log\n",
        "import numpy as np\n",
        "from models.teacher_model import TeacherNetwork\n",
        "from models.student_model import StudentNetwork\n",
        "import utils.common_utils"
      ],
      "execution_count": null,
      "outputs": []
    },
    {
      "cell_type": "code",
      "metadata": {
        "id": "Y7mTQcprFJnY",
        "trusted": true,
        "colab_type": "code",
        "colab": {},
        "outputId": "aaca2bb0-bcd3-4aa4-c819-244a3e6b36a8"
      },
      "source": [
        "!nvidia-smi"
      ],
      "execution_count": null,
      "outputs": [
        {
          "output_type": "stream",
          "text": [
            "Wed Jul  1 18:49:21 2020       \r\n",
            "+-----------------------------------------------------------------------------+\r\n",
            "| NVIDIA-SMI 418.67       Driver Version: 418.67       CUDA Version: 10.1     |\r\n",
            "|-------------------------------+----------------------+----------------------+\r\n",
            "| GPU  Name        Persistence-M| Bus-Id        Disp.A | Volatile Uncorr. ECC |\r\n",
            "| Fan  Temp  Perf  Pwr:Usage/Cap|         Memory-Usage | GPU-Util  Compute M. |\r\n",
            "|===============================+======================+======================|\r\n",
            "|   0  Tesla P100-PCIE...  Off  | 00000000:00:04.0 Off |                    0 |\r\n",
            "| N/A   40C    P0    34W / 250W |   1047MiB / 16280MiB |      0%      Default |\r\n",
            "+-------------------------------+----------------------+----------------------+\r\n",
            "                                                                               \r\n",
            "+-----------------------------------------------------------------------------+\r\n",
            "| Processes:                                                       GPU Memory |\r\n",
            "|  GPU       PID   Type   Process name                             Usage      |\r\n",
            "|=============================================================================|\r\n",
            "+-----------------------------------------------------------------------------+\r\n"
          ],
          "name": "stdout"
        }
      ]
    },
    {
      "cell_type": "markdown",
      "metadata": {
        "id": "njUvtjGO4qcm",
        "colab_type": "text"
      },
      "source": [
        "# Utility Functions"
      ]
    },
    {
      "cell_type": "markdown",
      "metadata": {
        "id": "vhCyJXiu1vHZ",
        "colab_type": "text"
      },
      "source": [
        "## Save Model State"
      ]
    },
    {
      "cell_type": "code",
      "metadata": {
        "id": "MvjXHikSuZrV",
        "trusted": true,
        "colab_type": "code",
        "colab": {}
      },
      "source": [
        "def saveModel(epoch, model,optimizer,loss,path):\n",
        "  torch.save({\n",
        "              'epoch': epoch,\n",
        "              'model_state_dict': model.state_dict(),\n",
        "              'optimizer_state_dict': optimizer.state_dict(),\n",
        "              'loss': loss\n",
        "              }, path)"
      ],
      "execution_count": null,
      "outputs": []
    },
    {
      "cell_type": "markdown",
      "metadata": {
        "id": "l37Tk_o11yIO",
        "colab_type": "text"
      },
      "source": [
        "## Load Model State"
      ]
    },
    {
      "cell_type": "code",
      "metadata": {
        "id": "72pnhO3N1zyC",
        "trusted": true,
        "colab_type": "code",
        "colab": {}
      },
      "source": [
        "def loadModel(model,optimizer,path):\n",
        "    checkpoint = torch.load(path)\n",
        "    model.load_state_dict(checkpoint['model_state_dict'])\n",
        "    optimizer.load_state_dict(checkpoint['optimizer_state_dict'])\n",
        "    epoch = checkpoint['epoch']\n",
        "    loss = checkpoint['loss']\n",
        "\n",
        "    print('Epoch: ',epoch,'Loss: ',loss)\n",
        "    return model,optimizer, epoch, loss;"
      ],
      "execution_count": null,
      "outputs": []
    },
    {
      "cell_type": "markdown",
      "metadata": {
        "id": "Re3ZtXBa_l8p",
        "colab_type": "text"
      },
      "source": [
        "# CUDA availability"
      ]
    },
    {
      "cell_type": "code",
      "metadata": {
        "id": "spv5x5XavWQv",
        "trusted": true,
        "colab_type": "code",
        "colab": {}
      },
      "source": [
        "# CUDA for PyTorch\n",
        "use_cuda = torch.cuda.is_available()\n",
        "device = torch.device(\"cuda:0\" if use_cuda else \"cpu\")\n",
        "torch.backends.cudnn.benchmark = True"
      ],
      "execution_count": null,
      "outputs": []
    },
    {
      "cell_type": "markdown",
      "metadata": {
        "id": "Gg6HyJNp_tcx",
        "colab_type": "text"
      },
      "source": [
        "# Defining the Hyper-parameters for Student"
      ]
    },
    {
      "cell_type": "code",
      "metadata": {
        "id": "7eWzqwMiwV54",
        "trusted": true,
        "colab_type": "code",
        "colab": {}
      },
      "source": [
        "learning_rate = 0.001\n",
        "epochs = 200\n",
        "weight_decay = 0.0001\n",
        "k = 64 ## Growth rate and batch size\n",
        "alpha = 0.9\n",
        "T = 20"
      ],
      "execution_count": null,
      "outputs": []
    },
    {
      "cell_type": "markdown",
      "metadata": {
        "id": "NwPdDq8Zvrkx",
        "colab_type": "text"
      },
      "source": [
        "## Loading GTSRB Data"
      ]
    },
    {
      "cell_type": "code",
      "metadata": {
        "id": "0bmN4bcPvuY_",
        "trusted": true,
        "colab_type": "code",
        "colab": {}
      },
      "source": [
        "import torchvision.transforms as transforms\n",
        "\n",
        "transform = transforms.Compose([\n",
        "    transforms.Resize((32, 32)),\n",
        "    transforms.ToTensor(),\n",
        "    transforms.Normalize((0.3403, 0.3121, 0.3214),\n",
        "                         (0.2724, 0.2608, 0.2669))\n",
        "])\n",
        "\n",
        "train_data = GTSRB(\n",
        "    root_dir='../input/gtsrbdata', train=True,  transform=transform)\n",
        "test_data = GTSRB(\n",
        "    root_dir='../input/gtsrbdata', train=False,  transform=transform)\n",
        "\n",
        "train_set = torch.utils.data.DataLoader(\n",
        "    train_data, batch_size=k)\n",
        "test_set = torch.utils.data.DataLoader(\n",
        "    test_data, batch_size=k)"
      ],
      "execution_count": null,
      "outputs": []
    },
    {
      "cell_type": "markdown",
      "metadata": {
        "id": "VFBZ92U75MuD",
        "colab_type": "text"
      },
      "source": [
        "# Defining the Teacher Network\n",
        "The following sub-sections define the various parts of the Teacher Network.\n",
        "We start by defining the Cell block, followed by the Stage module and finally the complete teacher model as defined in the paper \\\\\n",
        "[Lightweight deep network for traffic sign classification, Zhang et. al (2019)](https://rdcu.be/b5aTv)\n",
        "\n",
        "Before coding the network, we show the visual description of how the network looks with images taken from the above paper"
      ]
    },
    {
      "cell_type": "markdown",
      "metadata": {
        "id": "lsCyzdxZkGUS",
        "colab_type": "text"
      },
      "source": [
        "## Cell Block\n",
        "\n",
        "*The 1 × 1 kernels and the 3 × 3 kernels execute convolution\n",
        "operations in parallel and splice all output results*\n",
        "\n",
        "![Cell Block](https://i.imgur.com/RWMjelN.png)\n",
        "\n",
        "Please note, the numbers 64 on each on the convolution operations are, as per our interpretation, used to denote that each of the convolution operations see exactly half of the input(as the batch size mentioned in the paper is 128)"
      ]
    },
    {
      "cell_type": "code",
      "metadata": {
        "id": "J8zB6K6AwptD",
        "trusted": true,
        "colab_type": "code",
        "colab": {}
      },
      "source": [
        "class Cell(nn.Module):\n",
        "  def __init__(self,cell_in_channels,cell_out_channels):\n",
        "    super(Cell, self).__init__()\n",
        "\n",
        "    self.activation_function = nn.ReLU()\n",
        "    self.batch_norm = nn.BatchNorm2d(cell_out_channels)\n",
        "\n",
        "    ## Reflect padding is used for the 3 x 3 convolution as it creates a \n",
        "    ## feature map of size 30 X 30, and needs to be padded to 32 x 32\n",
        "    ## in order to concatenate with the 1 x 1 conv tensor\n",
        "\n",
        "    self.cnn3 = nn.Conv2d(in_channels=int(cell_in_channels/2),\n",
        "                          out_channels=int(cell_out_channels/2),\n",
        "                          kernel_size=3,padding=1,padding_mode='reflect', \n",
        "                          stride=1)\n",
        "    \n",
        "    self.cnn1 = nn.Conv2d(in_channels=int(cell_in_channels/2), \n",
        "                          out_channels=int(cell_out_channels/2),\n",
        "                          kernel_size=1, stride=1)\n",
        "    \n",
        "    \n",
        "    '''\n",
        "    I had initially thought about directly using grouped convolution feature, but could not find an implemented way of using different sized kernels for the parallel groups\n",
        "    '''\n",
        "    # self.grouped_conv = nn.Conv2d(in_channels=int(cell_in_channels/2), \n",
        "    #                               out_channels=int(cell_out_channels/2),\n",
        "    #                               kernel_size=1, stride=1,groups=2)\n",
        "\n",
        "\n",
        "    ## Used to split the input tensor in half in order to run parallel convolution\n",
        "    self.split_size = int(cell_in_channels/2)\n",
        "\n",
        "\n",
        "  def forward(self,x):\n",
        "\n",
        "    (path1,path2) = torch.split(x,split_size_or_sections=[self.split_size,self.split_size],dim=1)\n",
        "    path1 = self.cnn1(path1)\n",
        "\n",
        "    path2 = self.cnn3(path2)\n",
        "\n",
        "    x = torch.cat([path1,path2],1)\n",
        "    x = self.batch_norm(x)\n",
        "    x = self.activation_function(x)\n",
        "\n",
        "    return x"
      ],
      "execution_count": null,
      "outputs": []
    },
    {
      "cell_type": "markdown",
      "metadata": {
        "id": "q1J1kCbckXmf",
        "colab_type": "text"
      },
      "source": [
        "## Stage Module\n",
        "*Six cells are\n",
        "used to establish the direct connection between different\n",
        "layers, making full use of the feature maps of each layer*\n",
        "\n",
        "![stage](https://i.imgur.com/szNZQ9Cm.jpg)\n",
        "\n",
        "The outputs from each of the cells, as well as the 1 x 1 convolution are accumulated into the input for the next cell\n",
        "\n",
        "The two 1 x 1 convolutions are used to reduce the number of feature maps when connecting between the two stages"
      ]
    },
    {
      "cell_type": "code",
      "metadata": {
        "id": "i6zKrgG20Xbk",
        "trusted": true,
        "colab_type": "code",
        "colab": {}
      },
      "source": [
        "class Stage(nn.Module):\n",
        "  def __init__(self,cell_connections_in, cell_connections_out,stage_in,stage_out):\n",
        "    super(Stage,self).__init__()\n",
        "\n",
        "    self.activation_function = nn.ReLU()\n",
        "    self.batch_norm = nn.BatchNorm2d(k)\n",
        "\n",
        "    self.cnn1 = nn.Conv2d(in_channels=stage_in,\n",
        "                          out_channels=k,kernel_size=1,\n",
        "                          stride=1)\n",
        "    \n",
        "    self.cnn2 = nn.Conv2d(in_channels=7*k,\n",
        "                          out_channels=stage_out,kernel_size=1,\n",
        "                          stride=1)\n",
        "    \n",
        "    ## Densely connected six cell blocks\n",
        "    self.cells = nn.ModuleList([\n",
        "                                Cell(cell_connections_in[i],\n",
        "                                     cell_connections_out[i]) for i in range(6)\n",
        "                                     ])      \n",
        "\n",
        "\n",
        "  def forward(self,x):\n",
        "\n",
        "    #print(x.size())\n",
        "    cell_results = []\n",
        "    x = self.cnn1(x)\n",
        "    x = self.batch_norm(x)\n",
        "    x = self.activation_function(x)\n",
        "\n",
        "    cell_results.append(x)\n",
        "    for i in range(6):\n",
        "      #print('Cell ',i)\n",
        "      x = torch.cat(cell_results,1)\n",
        "      x = self.cells[i](x)\n",
        "      cell_results.append(x);\n",
        "      \n",
        "    x = torch.cat(cell_results,1)\n",
        "\n",
        "    x = self.cnn2(x)\n",
        "    x = self.batch_norm(x)\n",
        "    x = self.activation_function(x)\n",
        "\n",
        "    return x"
      ],
      "execution_count": null,
      "outputs": []
    },
    {
      "cell_type": "markdown",
      "metadata": {
        "id": "8VduCbXykyqJ",
        "colab_type": "text"
      },
      "source": [
        "## Teacher Network\n",
        "![teacher](https://i.imgur.com/bTH8KSCm.jpg)\n",
        "\n",
        "Finally, we define the teacher network which consists of 4 stage modules connected in a dense fashion, with each stage producing a 'k' feature maps where 'k' is the growth rate of the network.\n",
        "\n",
        "Stage 0 takes the input tensor which has 3 x H X W tensor and outputs a k x H x W tensor. The remaining Stages take 'k' feature maps as input and output 'k' feature maps\n",
        "\n",
        "Finally, the Stage 3 output is pooled using a 3 x 3 max pooling with stride of 2\n",
        "and finally a fully connected linear layer which produces the probability vector for classification."
      ]
    },
    {
      "cell_type": "code",
      "metadata": {
        "id": "T4H42GR4Cl31",
        "trusted": true,
        "colab_type": "code",
        "colab": {}
      },
      "source": [
        "class TeacherNetwork(nn.Module):\n",
        "  def __init__(self,cell_onnections_in,cell_connections_out,stage_connections_in,stage_connections_out):\n",
        "    super(TeacherNetwork, self).__init__()\n",
        "\n",
        "    self.stages = nn.ModuleList([Stage(cell_onnections_in,cell_connections_out,stage_connections_in[i],stage_connections_out[i]) for i in range(4)])\n",
        "    self.max_pool = torch.nn.MaxPool2d(kernel_size=2,stride=2)\n",
        "    self.activation_function = nn.ReLU()\n",
        "    self.linear = nn.Linear(in_features=65536,out_features=43)\n",
        "\n",
        "\n",
        "  def forward(self,x):\n",
        "    stage_results = []\n",
        "    for i in range(4):\n",
        "      #print('Stage ',i)\n",
        "      if i != 0:\n",
        "        x = torch.cat(stage_results,1)\n",
        "        x = self.stages[i](x)\n",
        "        stage_results.append(x);\n",
        "\n",
        "      else:\n",
        "        x = self.stages[0](x)\n",
        "        stage_results.append(x)\n",
        "    \n",
        "    x = torch.cat(stage_results,1)\n",
        "    x = self.max_pool(x)\n",
        "    # print(x.size())\n",
        "    x = x.view(x.size(0),-1)\n",
        "    # print(x.size())\n",
        "    x = self.linear(x)\n",
        "    #print(\"Sending prediction now!\")\n",
        "    return x;"
      ],
      "execution_count": null,
      "outputs": []
    },
    {
      "cell_type": "markdown",
      "metadata": {
        "id": "T3QzsNmmtMfu",
        "colab_type": "text"
      },
      "source": [
        "# Defining the Student Network"
      ]
    },
    {
      "cell_type": "code",
      "metadata": {
        "id": "uVEckUUZtPMm",
        "trusted": true,
        "colab_type": "code",
        "colab": {}
      },
      "source": [
        "class StudentNetwork(nn.Module):\n",
        "  def __init__(self):\n",
        "    super(StudentNetwork,self).__init__()\n",
        "    self.activation_function = nn.ReLU()\n",
        "    self.batch_norm1 = nn.BatchNorm2d(32)\n",
        "    self.batch_norm2 = nn.BatchNorm2d(32)\n",
        "    self.batch_norm3 = nn.BatchNorm2d(64)\n",
        "    self.batch_norm4 = nn.BatchNorm2d(64)\n",
        "    self.batch_norm5 = nn.BatchNorm2d(128)\n",
        "    self.max_pool = nn.MaxPool2d(kernel_size=2,stride=2,padding=0)\n",
        "    self.avg_pool = nn.AvgPool2d(kernel_size=2,stride=2,padding=0)\n",
        "    self.cnn1 = nn.Conv2d(in_channels=3,out_channels=32,kernel_size=3,stride=1,padding=1,padding_mode='reflect')\n",
        "    self.cnn2 = nn.Conv2d(in_channels=32,out_channels=32,kernel_size=3,stride=1,padding=1,padding_mode='reflect')\n",
        "    self.cnn3 = nn.Conv2d(in_channels=32,out_channels=64,kernel_size=3,stride=1,padding=1,padding_mode='reflect')\n",
        "    self.cnn4 = nn.Conv2d(in_channels=64,out_channels=64,kernel_size=3,stride=1,padding=1,padding_mode='reflect')\n",
        "    self.cnn5 = nn.Conv2d(in_channels=64,out_channels=128,kernel_size=3,stride=1,padding=1,padding_mode='reflect')\n",
        "    self.fc = nn.Linear(in_features=2048,out_features=43)\n",
        "\n",
        "  def forward(self,x):\n",
        "    x = self.cnn1(x)\n",
        "    x = self.batch_norm1(x)\n",
        "    x = self.activation_function(x)\n",
        "    x = self.cnn2(x)\n",
        "    x = self.batch_norm2(x)\n",
        "    x = self.activation_function(x)\n",
        "    x = self.max_pool(x)\n",
        "    x = self.cnn3(x)\n",
        "    x = self.batch_norm3(x)\n",
        "    x = self.activation_function(x)\n",
        "    x = self.cnn4(x)\n",
        "    x = self.batch_norm4(x)\n",
        "    x = self.activation_function(x)\n",
        "    x = self.max_pool(x)\n",
        "    x = self.cnn5(x)\n",
        "    x = self.batch_norm5(x)\n",
        "    x = self.activation_function(x)\n",
        "    x = self.avg_pool(x)\n",
        "    x = x.view(x.size(0),-1)\n",
        "    x = self.fc(x)\n",
        "\n",
        "    return x;\n",
        "\n",
        "\n"
      ],
      "execution_count": null,
      "outputs": []
    },
    {
      "cell_type": "markdown",
      "metadata": {
        "id": "MNLq0pMoH0r5",
        "colab_type": "text"
      },
      "source": [
        "## Defining Knowledge Distillation Loss\n",
        "### KD Loss Formula\n",
        "![kdloss](https://i.imgur.com/v5HfR1N.png)\n"
      ]
    },
    {
      "cell_type": "code",
      "metadata": {
        "id": "NnGT7zc-Ecsj",
        "trusted": true,
        "colab_type": "code",
        "colab": {}
      },
      "source": [
        "'''\n",
        "NOTE: the KL Divergence for PyTorch comparing the softmaxs of teacher\n",
        "    and student expects the input tensor to be log probabilities!'''\n",
        "\n",
        "import torch.nn.functional as F\n",
        "cec = nn.CrossEntropyLoss().cuda()\n",
        "\n",
        "def computeKDLoss(teacher_output, student_output,labels):\n",
        "\n",
        "  loss = nn.KLDivLoss()(F.log_softmax(student_output/T, dim=1),\n",
        "                             F.softmax(teacher_output/T, dim=1)) * (2. * alpha * T * T) + \\\n",
        "              cec(F.softmax(student_output), labels) * (1. - alpha)\n",
        "  return loss;"
      ],
      "execution_count": null,
      "outputs": []
    },
    {
      "cell_type": "markdown",
      "metadata": {
        "id": "SL19QLjS92iX",
        "colab_type": "text"
      },
      "source": [
        "# Validation Function\n",
        "\n",
        "Validates the model against the test data"
      ]
    },
    {
      "cell_type": "code",
      "metadata": {
        "id": "nbDPqodr4F4t",
        "trusted": true,
        "colab_type": "code",
        "colab": {}
      },
      "source": [
        "def validate(model,data):\n",
        "  # To get validation accuracy = (correct/total)*100.\n",
        "  total = 0\n",
        "  correct = 0\n",
        "  #model.eval()\n",
        "  \n",
        "  with torch.no_grad():\n",
        "    for i,(images,labels) in enumerate(data):\n",
        "      images = var(images.cuda())\n",
        "      x = model(images)\n",
        "      value,pred = torch.max(x,1)\n",
        "      pred = pred.data.cpu()\n",
        "      total += x.size(0)\n",
        "      correct += torch.sum(pred == labels)\n",
        "    return correct*100./total"
      ],
      "execution_count": null,
      "outputs": []
    },
    {
      "cell_type": "code",
      "metadata": {
        "id": "61zKgC9xBz1k",
        "trusted": true,
        "colab_type": "code",
        "colab": {},
        "outputId": "4ba315e1-fbc1-4d4f-c01c-c0b215d98f31"
      },
      "source": [
        "student = StudentNetwork().cuda()\n",
        "student"
      ],
      "execution_count": null,
      "outputs": [
        {
          "output_type": "execute_result",
          "data": {
            "text/plain": [
              "StudentNetwork(\n",
              "  (activation_function): ReLU()\n",
              "  (batch_norm1): BatchNorm2d(32, eps=1e-05, momentum=0.1, affine=True, track_running_stats=True)\n",
              "  (batch_norm2): BatchNorm2d(32, eps=1e-05, momentum=0.1, affine=True, track_running_stats=True)\n",
              "  (batch_norm3): BatchNorm2d(64, eps=1e-05, momentum=0.1, affine=True, track_running_stats=True)\n",
              "  (batch_norm4): BatchNorm2d(64, eps=1e-05, momentum=0.1, affine=True, track_running_stats=True)\n",
              "  (batch_norm5): BatchNorm2d(128, eps=1e-05, momentum=0.1, affine=True, track_running_stats=True)\n",
              "  (max_pool): MaxPool2d(kernel_size=2, stride=2, padding=0, dilation=1, ceil_mode=False)\n",
              "  (avg_pool): AvgPool2d(kernel_size=2, stride=2, padding=0)\n",
              "  (cnn1): Conv2d(3, 32, kernel_size=(3, 3), stride=(1, 1), padding=(1, 1), padding_mode=reflect)\n",
              "  (cnn2): Conv2d(32, 32, kernel_size=(3, 3), stride=(1, 1), padding=(1, 1), padding_mode=reflect)\n",
              "  (cnn3): Conv2d(32, 64, kernel_size=(3, 3), stride=(1, 1), padding=(1, 1), padding_mode=reflect)\n",
              "  (cnn4): Conv2d(64, 64, kernel_size=(3, 3), stride=(1, 1), padding=(1, 1), padding_mode=reflect)\n",
              "  (cnn5): Conv2d(64, 128, kernel_size=(3, 3), stride=(1, 1), padding=(1, 1), padding_mode=reflect)\n",
              "  (fc): Linear(in_features=2048, out_features=43, bias=True)\n",
              ")"
            ]
          },
          "metadata": {
            "tags": []
          },
          "execution_count": 122
        }
      ]
    },
    {
      "cell_type": "markdown",
      "metadata": {
        "id": "R7yOv1dp4Xbg",
        "colab_type": "text"
      },
      "source": [
        "## Parameter Count"
      ]
    },
    {
      "cell_type": "code",
      "metadata": {
        "id": "ix8_eq7tJm_2",
        "trusted": true,
        "colab_type": "code",
        "colab": {},
        "outputId": "9115c1a0-1ac3-465e-9a20-d51ea3ab2e4d"
      },
      "source": [
        "s  = sum(np.prod(list(p.size())) for p in student.parameters())\n",
        "print('Number of parameters: ',s)"
      ],
      "execution_count": null,
      "outputs": [
        {
          "output_type": "stream",
          "text": [
            "Number of parameters:  228171\n"
          ],
          "name": "stdout"
        }
      ]
    },
    {
      "cell_type": "code",
      "metadata": {
        "trusted": true,
        "id": "V2xTPCdvMQT5",
        "colab_type": "code",
        "colab": {}
      },
      "source": [
        "student_stats = pd.DataFrame(columns=['Epoch','Train Loss','Test Accuracy'])"
      ],
      "execution_count": null,
      "outputs": []
    },
    {
      "cell_type": "markdown",
      "metadata": {
        "id": "b-NknvXkAmRn",
        "colab_type": "text"
      },
      "source": [
        "## Defining the Optimizer\n",
        "We use an ADAM optimizer with a defined initial learning rate and a weight decay"
      ]
    },
    {
      "cell_type": "code",
      "metadata": {
        "id": "na5GdypGAluR",
        "trusted": true,
        "colab_type": "code",
        "colab": {}
      },
      "source": [
        "optimizer = optim.Adam(student.parameters(),lr=learning_rate,weight_decay=weight_decay)"
      ],
      "execution_count": null,
      "outputs": []
    },
    {
      "cell_type": "markdown",
      "metadata": {
        "id": "DIkgxABI4Lx6",
        "colab_type": "text"
      },
      "source": [
        "# Defining the Teacher Model"
      ]
    },
    {
      "cell_type": "code",
      "metadata": {
        "id": "CquiAVXIJjXO",
        "trusted": true,
        "colab_type": "code",
        "colab": {}
      },
      "source": [
        "'''\n",
        "The cells use feature maps from every preceding output in the subsequent cells,\n",
        "increasing the number of feature maps for every next cell by k * 2^(i-1) where \n",
        "i is the cell number. Therefore, the first cell inputs 'k' feature maps and \n",
        "outputs k feature maps, and the last cell(6th) inputs 2^5 * k feature maps and \n",
        "outputs the same number\n",
        "'''\n",
        "cell_connections_in = [k,2*k,3*k,4*k,5*k,6*k]\n",
        "cell_connections_out = [k] * 6\n",
        "\n",
        "'''\n",
        "The stages also use feature maps from every preceding output in the subsequent \n",
        "cells, increasing the number of feature maps for every next stage linearly. \n",
        "This is due to the fact that the 1 x 1 convolution at the end of every stage \n",
        "reduces the output feature maps to size 'k'\n",
        "'''\n",
        "\n",
        "stage_connections_in = [3,k,2*k,3*k]\n",
        "stage_connections_out = [k] * 4\n",
        "\n",
        "trained_teacher = TeacherNetwork(cell_connections_in,cell_connections_out,stage_connections_in,stage_connections_out).to(device)"
      ],
      "execution_count": null,
      "outputs": []
    },
    {
      "cell_type": "code",
      "metadata": {
        "id": "c_caFZBKNE0K",
        "trusted": true,
        "colab_type": "code",
        "colab": {}
      },
      "source": [
        "trained_teacher = torch.load(\"../saved_models/trained_teacher_model.pth\")\n",
        "trained_teacher"
      ],
      "execution_count": null,
      "outputs": []
    },
    {
      "cell_type": "markdown",
      "metadata": {
        "id": "Ihu5zOI4xwl9",
        "colab_type": "text"
      },
      "source": [
        "## Training Student Network\n",
        "### Using trained Teacher Network\n",
        "#### Using KD Loss from Teacher"
      ]
    },
    {
      "cell_type": "code",
      "metadata": {
        "id": "0ijHZw1MAVD-",
        "trusted": true,
        "colab_type": "code",
        "colab": {}
      },
      "source": [
        "def get_teacher_outputs():\n",
        "    teacher_predictions = []\n",
        "    for index,(images,labels) in enumerate(train_set):\n",
        "        with torch.no_grad():\n",
        "            images = var(images.cuda())\n",
        "            labels = var(labels.cuda())\n",
        "            pred = trained_teacher(images).data.cpu().numpy()\n",
        "            teacher_predictions.append(pred)\n",
        "    return teacher_predictions"
      ],
      "execution_count": null,
      "outputs": []
    },
    {
      "cell_type": "code",
      "metadata": {
        "trusted": true,
        "id": "NWXqJ2zAMQUL",
        "colab_type": "code",
        "colab": {},
        "outputId": "08311237-c3c1-4709-8775-5ed590f46d20"
      },
      "source": [
        "teacher_predictions = get_teacher_outputs()"
      ],
      "execution_count": null,
      "outputs": [
        {
          "output_type": "stream",
          "text": [
            "0\n",
            "200\n",
            "400\n",
            "600\n"
          ],
          "name": "stdout"
        }
      ]
    },
    {
      "cell_type": "code",
      "metadata": {
        "id": "0j7j4Gx3yCID",
        "trusted": true,
        "colab_type": "code",
        "colab": {}
      },
      "source": [
        "## Student training\n",
        "for epoch in range(epochs)[201:]:\n",
        "  epoch_loss = 0.0\n",
        "  running_loss = 0.0\n",
        "  for index,(images,labels) in enumerate(train_set):\n",
        "    images = var(images.cuda())\n",
        "    labels = var(labels.cuda())\n",
        "    optimizer.zero_grad()\n",
        "\n",
        "    teacher_pred =  torch.from_numpy(teacher_predictions[index])\n",
        "    teacher_pred = var(teacher_pred.cuda(), requires_grad=False)\n",
        "    \n",
        "    student_prediction = student(images)\n",
        "    loss = computeKDLoss(teacher_output=teacher_pred,student_output=student_prediction,labels=labels)\n",
        "    loss.backward()\n",
        "    optimizer.step()\n",
        "\n",
        "    epoch_loss += student_prediction.shape[0] * loss.item()\n",
        "\n",
        "  avg_epoch_loss = epoch_loss/len(train_data)\n",
        "  accuracy = float(validate(student,test_set))\n",
        "  print('Epoch :',epoch+1, 'Train Loss :',avg_epoch_loss,'Test Accuracy: ',accuracy,'%')\n"
      ],
      "execution_count": null,
      "outputs": []
    },
    {
      "cell_type": "markdown",
      "metadata": {
        "id": "m_LUOrjaA8AB",
        "colab_type": "text"
      },
      "source": [
        "# Evaluating the trained model"
      ]
    },
    {
      "cell_type": "code",
      "metadata": {
        "id": "qsWqIix32bLG",
        "trusted": true,
        "colab_type": "code",
        "colab": {},
        "outputId": "c7d737a6-af9f-42b1-d539-8066cfe9d0a8"
      },
      "source": [
        "accuracy = float(validate(student,test_set))\n",
        "print('Accuracy = ',accuracy)"
      ],
      "execution_count": null,
      "outputs": [
        {
          "output_type": "stream",
          "text": [
            "Accuracy =  2.399049997329712\n"
          ],
          "name": "stdout"
        }
      ]
    },
    {
      "cell_type": "code",
      "metadata": {
        "id": "seU8hwRxCRRK",
        "trusted": true,
        "colab_type": "code",
        "colab": {}
      },
      "source": [
        "### Save final\n",
        "torch.save(student,\"final_student_model_2.pth\")"
      ],
      "execution_count": null,
      "outputs": []
    },
    {
      "cell_type": "code",
      "metadata": {
        "id": "Fd1URfKd1fk8",
        "trusted": true,
        "colab_type": "code",
        "colab": {}
      },
      "source": [
        "## Evaluating the model\n",
        "trainedTeacher = TeacherNetwork(cell_connections_in,cell_connections_out,stage_connections_in,stage_connections_out).type(torch.cuda.FloatTensor)\n",
        "# optimizer = optim.Adam(teacher.parameters(),lr=learning_rate,weight_decay=0.0001)\n",
        "# trainedTeacher,optimizer,ep,loss = loadModel(trainedTeacher,optimizer,\"./saved_models/teacher_saved_1.pth\")\n",
        "# print(ep,loss.item())\n",
        "\n",
        "trainedstate = torch.load(\"./saved_models/final_saved_model_1.pth\")\n",
        "trainedTeacher.load_state_dict(trainedstate)\n",
        "trainedTeacher.eval()\n"
      ],
      "execution_count": null,
      "outputs": []
    },
    {
      "cell_type": "code",
      "metadata": {
        "trusted": true,
        "id": "GKnwb08sMQUa",
        "colab_type": "code",
        "colab": {},
        "outputId": "400b60ed-64d8-479a-f3ca-94132053b6f0"
      },
      "source": [
        "teacher = torch.load(\"../input/models/trained_teacher_model.pth\")\n",
        "teacher"
      ],
      "execution_count": null,
      "outputs": [
        {
          "output_type": "execute_result",
          "data": {
            "text/plain": [
              "TeacherNetwork(\n",
              "  (stages): ModuleList(\n",
              "    (0): Stage(\n",
              "      (activation_function): ReLU()\n",
              "      (batch_norm): BatchNorm2d(64, eps=1e-05, momentum=0.1, affine=True, track_running_stats=True)\n",
              "      (cnn1): Conv2d(3, 64, kernel_size=(1, 1), stride=(1, 1))\n",
              "      (cnn2): Conv2d(448, 64, kernel_size=(1, 1), stride=(1, 1))\n",
              "      (cells): ModuleList(\n",
              "        (0): Cell(\n",
              "          (activation_function): ReLU()\n",
              "          (batch_norm): BatchNorm2d(64, eps=1e-05, momentum=0.1, affine=True, track_running_stats=True)\n",
              "          (cnn3): Conv2d(32, 32, kernel_size=(3, 3), stride=(1, 1), padding=(1, 1), padding_mode=reflect)\n",
              "          (cnn1): Conv2d(32, 32, kernel_size=(1, 1), stride=(1, 1))\n",
              "        )\n",
              "        (1): Cell(\n",
              "          (activation_function): ReLU()\n",
              "          (batch_norm): BatchNorm2d(64, eps=1e-05, momentum=0.1, affine=True, track_running_stats=True)\n",
              "          (cnn3): Conv2d(64, 32, kernel_size=(3, 3), stride=(1, 1), padding=(1, 1), padding_mode=reflect)\n",
              "          (cnn1): Conv2d(64, 32, kernel_size=(1, 1), stride=(1, 1))\n",
              "        )\n",
              "        (2): Cell(\n",
              "          (activation_function): ReLU()\n",
              "          (batch_norm): BatchNorm2d(64, eps=1e-05, momentum=0.1, affine=True, track_running_stats=True)\n",
              "          (cnn3): Conv2d(96, 32, kernel_size=(3, 3), stride=(1, 1), padding=(1, 1), padding_mode=reflect)\n",
              "          (cnn1): Conv2d(96, 32, kernel_size=(1, 1), stride=(1, 1))\n",
              "        )\n",
              "        (3): Cell(\n",
              "          (activation_function): ReLU()\n",
              "          (batch_norm): BatchNorm2d(64, eps=1e-05, momentum=0.1, affine=True, track_running_stats=True)\n",
              "          (cnn3): Conv2d(128, 32, kernel_size=(3, 3), stride=(1, 1), padding=(1, 1), padding_mode=reflect)\n",
              "          (cnn1): Conv2d(128, 32, kernel_size=(1, 1), stride=(1, 1))\n",
              "        )\n",
              "        (4): Cell(\n",
              "          (activation_function): ReLU()\n",
              "          (batch_norm): BatchNorm2d(64, eps=1e-05, momentum=0.1, affine=True, track_running_stats=True)\n",
              "          (cnn3): Conv2d(160, 32, kernel_size=(3, 3), stride=(1, 1), padding=(1, 1), padding_mode=reflect)\n",
              "          (cnn1): Conv2d(160, 32, kernel_size=(1, 1), stride=(1, 1))\n",
              "        )\n",
              "        (5): Cell(\n",
              "          (activation_function): ReLU()\n",
              "          (batch_norm): BatchNorm2d(64, eps=1e-05, momentum=0.1, affine=True, track_running_stats=True)\n",
              "          (cnn3): Conv2d(192, 32, kernel_size=(3, 3), stride=(1, 1), padding=(1, 1), padding_mode=reflect)\n",
              "          (cnn1): Conv2d(192, 32, kernel_size=(1, 1), stride=(1, 1))\n",
              "        )\n",
              "      )\n",
              "    )\n",
              "    (1): Stage(\n",
              "      (activation_function): ReLU()\n",
              "      (batch_norm): BatchNorm2d(64, eps=1e-05, momentum=0.1, affine=True, track_running_stats=True)\n",
              "      (cnn1): Conv2d(64, 64, kernel_size=(1, 1), stride=(1, 1))\n",
              "      (cnn2): Conv2d(448, 64, kernel_size=(1, 1), stride=(1, 1))\n",
              "      (cells): ModuleList(\n",
              "        (0): Cell(\n",
              "          (activation_function): ReLU()\n",
              "          (batch_norm): BatchNorm2d(64, eps=1e-05, momentum=0.1, affine=True, track_running_stats=True)\n",
              "          (cnn3): Conv2d(32, 32, kernel_size=(3, 3), stride=(1, 1), padding=(1, 1), padding_mode=reflect)\n",
              "          (cnn1): Conv2d(32, 32, kernel_size=(1, 1), stride=(1, 1))\n",
              "        )\n",
              "        (1): Cell(\n",
              "          (activation_function): ReLU()\n",
              "          (batch_norm): BatchNorm2d(64, eps=1e-05, momentum=0.1, affine=True, track_running_stats=True)\n",
              "          (cnn3): Conv2d(64, 32, kernel_size=(3, 3), stride=(1, 1), padding=(1, 1), padding_mode=reflect)\n",
              "          (cnn1): Conv2d(64, 32, kernel_size=(1, 1), stride=(1, 1))\n",
              "        )\n",
              "        (2): Cell(\n",
              "          (activation_function): ReLU()\n",
              "          (batch_norm): BatchNorm2d(64, eps=1e-05, momentum=0.1, affine=True, track_running_stats=True)\n",
              "          (cnn3): Conv2d(96, 32, kernel_size=(3, 3), stride=(1, 1), padding=(1, 1), padding_mode=reflect)\n",
              "          (cnn1): Conv2d(96, 32, kernel_size=(1, 1), stride=(1, 1))\n",
              "        )\n",
              "        (3): Cell(\n",
              "          (activation_function): ReLU()\n",
              "          (batch_norm): BatchNorm2d(64, eps=1e-05, momentum=0.1, affine=True, track_running_stats=True)\n",
              "          (cnn3): Conv2d(128, 32, kernel_size=(3, 3), stride=(1, 1), padding=(1, 1), padding_mode=reflect)\n",
              "          (cnn1): Conv2d(128, 32, kernel_size=(1, 1), stride=(1, 1))\n",
              "        )\n",
              "        (4): Cell(\n",
              "          (activation_function): ReLU()\n",
              "          (batch_norm): BatchNorm2d(64, eps=1e-05, momentum=0.1, affine=True, track_running_stats=True)\n",
              "          (cnn3): Conv2d(160, 32, kernel_size=(3, 3), stride=(1, 1), padding=(1, 1), padding_mode=reflect)\n",
              "          (cnn1): Conv2d(160, 32, kernel_size=(1, 1), stride=(1, 1))\n",
              "        )\n",
              "        (5): Cell(\n",
              "          (activation_function): ReLU()\n",
              "          (batch_norm): BatchNorm2d(64, eps=1e-05, momentum=0.1, affine=True, track_running_stats=True)\n",
              "          (cnn3): Conv2d(192, 32, kernel_size=(3, 3), stride=(1, 1), padding=(1, 1), padding_mode=reflect)\n",
              "          (cnn1): Conv2d(192, 32, kernel_size=(1, 1), stride=(1, 1))\n",
              "        )\n",
              "      )\n",
              "    )\n",
              "    (2): Stage(\n",
              "      (activation_function): ReLU()\n",
              "      (batch_norm): BatchNorm2d(64, eps=1e-05, momentum=0.1, affine=True, track_running_stats=True)\n",
              "      (cnn1): Conv2d(128, 64, kernel_size=(1, 1), stride=(1, 1))\n",
              "      (cnn2): Conv2d(448, 64, kernel_size=(1, 1), stride=(1, 1))\n",
              "      (cells): ModuleList(\n",
              "        (0): Cell(\n",
              "          (activation_function): ReLU()\n",
              "          (batch_norm): BatchNorm2d(64, eps=1e-05, momentum=0.1, affine=True, track_running_stats=True)\n",
              "          (cnn3): Conv2d(32, 32, kernel_size=(3, 3), stride=(1, 1), padding=(1, 1), padding_mode=reflect)\n",
              "          (cnn1): Conv2d(32, 32, kernel_size=(1, 1), stride=(1, 1))\n",
              "        )\n",
              "        (1): Cell(\n",
              "          (activation_function): ReLU()\n",
              "          (batch_norm): BatchNorm2d(64, eps=1e-05, momentum=0.1, affine=True, track_running_stats=True)\n",
              "          (cnn3): Conv2d(64, 32, kernel_size=(3, 3), stride=(1, 1), padding=(1, 1), padding_mode=reflect)\n",
              "          (cnn1): Conv2d(64, 32, kernel_size=(1, 1), stride=(1, 1))\n",
              "        )\n",
              "        (2): Cell(\n",
              "          (activation_function): ReLU()\n",
              "          (batch_norm): BatchNorm2d(64, eps=1e-05, momentum=0.1, affine=True, track_running_stats=True)\n",
              "          (cnn3): Conv2d(96, 32, kernel_size=(3, 3), stride=(1, 1), padding=(1, 1), padding_mode=reflect)\n",
              "          (cnn1): Conv2d(96, 32, kernel_size=(1, 1), stride=(1, 1))\n",
              "        )\n",
              "        (3): Cell(\n",
              "          (activation_function): ReLU()\n",
              "          (batch_norm): BatchNorm2d(64, eps=1e-05, momentum=0.1, affine=True, track_running_stats=True)\n",
              "          (cnn3): Conv2d(128, 32, kernel_size=(3, 3), stride=(1, 1), padding=(1, 1), padding_mode=reflect)\n",
              "          (cnn1): Conv2d(128, 32, kernel_size=(1, 1), stride=(1, 1))\n",
              "        )\n",
              "        (4): Cell(\n",
              "          (activation_function): ReLU()\n",
              "          (batch_norm): BatchNorm2d(64, eps=1e-05, momentum=0.1, affine=True, track_running_stats=True)\n",
              "          (cnn3): Conv2d(160, 32, kernel_size=(3, 3), stride=(1, 1), padding=(1, 1), padding_mode=reflect)\n",
              "          (cnn1): Conv2d(160, 32, kernel_size=(1, 1), stride=(1, 1))\n",
              "        )\n",
              "        (5): Cell(\n",
              "          (activation_function): ReLU()\n",
              "          (batch_norm): BatchNorm2d(64, eps=1e-05, momentum=0.1, affine=True, track_running_stats=True)\n",
              "          (cnn3): Conv2d(192, 32, kernel_size=(3, 3), stride=(1, 1), padding=(1, 1), padding_mode=reflect)\n",
              "          (cnn1): Conv2d(192, 32, kernel_size=(1, 1), stride=(1, 1))\n",
              "        )\n",
              "      )\n",
              "    )\n",
              "    (3): Stage(\n",
              "      (activation_function): ReLU()\n",
              "      (batch_norm): BatchNorm2d(64, eps=1e-05, momentum=0.1, affine=True, track_running_stats=True)\n",
              "      (cnn1): Conv2d(192, 64, kernel_size=(1, 1), stride=(1, 1))\n",
              "      (cnn2): Conv2d(448, 64, kernel_size=(1, 1), stride=(1, 1))\n",
              "      (cells): ModuleList(\n",
              "        (0): Cell(\n",
              "          (activation_function): ReLU()\n",
              "          (batch_norm): BatchNorm2d(64, eps=1e-05, momentum=0.1, affine=True, track_running_stats=True)\n",
              "          (cnn3): Conv2d(32, 32, kernel_size=(3, 3), stride=(1, 1), padding=(1, 1), padding_mode=reflect)\n",
              "          (cnn1): Conv2d(32, 32, kernel_size=(1, 1), stride=(1, 1))\n",
              "        )\n",
              "        (1): Cell(\n",
              "          (activation_function): ReLU()\n",
              "          (batch_norm): BatchNorm2d(64, eps=1e-05, momentum=0.1, affine=True, track_running_stats=True)\n",
              "          (cnn3): Conv2d(64, 32, kernel_size=(3, 3), stride=(1, 1), padding=(1, 1), padding_mode=reflect)\n",
              "          (cnn1): Conv2d(64, 32, kernel_size=(1, 1), stride=(1, 1))\n",
              "        )\n",
              "        (2): Cell(\n",
              "          (activation_function): ReLU()\n",
              "          (batch_norm): BatchNorm2d(64, eps=1e-05, momentum=0.1, affine=True, track_running_stats=True)\n",
              "          (cnn3): Conv2d(96, 32, kernel_size=(3, 3), stride=(1, 1), padding=(1, 1), padding_mode=reflect)\n",
              "          (cnn1): Conv2d(96, 32, kernel_size=(1, 1), stride=(1, 1))\n",
              "        )\n",
              "        (3): Cell(\n",
              "          (activation_function): ReLU()\n",
              "          (batch_norm): BatchNorm2d(64, eps=1e-05, momentum=0.1, affine=True, track_running_stats=True)\n",
              "          (cnn3): Conv2d(128, 32, kernel_size=(3, 3), stride=(1, 1), padding=(1, 1), padding_mode=reflect)\n",
              "          (cnn1): Conv2d(128, 32, kernel_size=(1, 1), stride=(1, 1))\n",
              "        )\n",
              "        (4): Cell(\n",
              "          (activation_function): ReLU()\n",
              "          (batch_norm): BatchNorm2d(64, eps=1e-05, momentum=0.1, affine=True, track_running_stats=True)\n",
              "          (cnn3): Conv2d(160, 32, kernel_size=(3, 3), stride=(1, 1), padding=(1, 1), padding_mode=reflect)\n",
              "          (cnn1): Conv2d(160, 32, kernel_size=(1, 1), stride=(1, 1))\n",
              "        )\n",
              "        (5): Cell(\n",
              "          (activation_function): ReLU()\n",
              "          (batch_norm): BatchNorm2d(64, eps=1e-05, momentum=0.1, affine=True, track_running_stats=True)\n",
              "          (cnn3): Conv2d(192, 32, kernel_size=(3, 3), stride=(1, 1), padding=(1, 1), padding_mode=reflect)\n",
              "          (cnn1): Conv2d(192, 32, kernel_size=(1, 1), stride=(1, 1))\n",
              "        )\n",
              "      )\n",
              "    )\n",
              "  )\n",
              "  (max_pool): MaxPool2d(kernel_size=2, stride=2, padding=0, dilation=1, ceil_mode=False)\n",
              "  (activation_function): ReLU()\n",
              "  (linear): Linear(in_features=65536, out_features=43, bias=True)\n",
              ")"
            ]
          },
          "metadata": {
            "tags": []
          },
          "execution_count": 136
        }
      ]
    },
    {
      "cell_type": "code",
      "metadata": {
        "trusted": true,
        "id": "_bEz37WXMQUd",
        "colab_type": "code",
        "colab": {},
        "outputId": "e455f438-1ea1-4e70-acf0-24fde510a714"
      },
      "source": [
        "## CF For the trained student model\n",
        "\n",
        "\n",
        "# student.load_state_dict(studentstate)\n",
        "\n",
        "def confusion_matrix(preds, labels, conf_matrix):\n",
        "    preds = torch.argmax(preds, 1)\n",
        "    for p, t in zip(preds, labels):\n",
        "        conf_matrix[p, t] += 1\n",
        "\n",
        "    return conf_matrix\n",
        "\n",
        "conf_matrix = torch.zeros(43, 43)\n",
        "for index,(images, labels) in enumerate(test_set):\n",
        "  images = var(images.cuda())\n",
        "  labels = var(labels.cuda())\n",
        "  output = teacher(images)\n",
        "  conf_matrix = confusion_matrix(output, labels, conf_matrix)\n",
        "  if index% 100 == 0:\n",
        "    print(index)"
      ],
      "execution_count": null,
      "outputs": [
        {
          "output_type": "stream",
          "text": [
            "0\n",
            "100\n"
          ],
          "name": "stdout"
        }
      ]
    },
    {
      "cell_type": "code",
      "metadata": {
        "trusted": true,
        "id": "xwNPYs49MQUg",
        "colab_type": "code",
        "colab": {},
        "outputId": "eceb8df7-792e-4307-db54-8a55b9819834"
      },
      "source": [
        "print(conf_matrix)"
      ],
      "execution_count": null,
      "outputs": [
        {
          "output_type": "stream",
          "text": [
            "tensor([[ 60.,   0.,   0.,  ...,   2.,   0.,   0.],\n",
            "        [  0., 714.,   4.,  ...,   0.,   0.,   0.],\n",
            "        [  0.,   1., 744.,  ...,   0.,   0.,   0.],\n",
            "        ...,\n",
            "        [  0.,   0.,   0.,  ...,  84.,   0.,   0.],\n",
            "        [  0.,   0.,   0.,  ...,   0.,  54.,  14.],\n",
            "        [  0.,   0.,   0.,  ...,   0.,   0.,  72.]])\n"
          ],
          "name": "stdout"
        }
      ]
    },
    {
      "cell_type": "code",
      "metadata": {
        "trusted": true,
        "id": "nXthdYsLMQUi",
        "colab_type": "code",
        "colab": {},
        "outputId": "ef184d2f-0138-4808-ccb3-310cdd2335f6"
      },
      "source": [
        "TP = conf_matrix.diag()\n",
        "for c in range(43):\n",
        "  idx = torch.ones(43).byte()\n",
        "  idx[c] = 0\n",
        "  TN = conf_matrix[idx.nonzero()[:,None], idx.nonzero()].sum()\n",
        "  FP = conf_matrix[c, idx].sum()\n",
        "  FN = conf_matrix[idx, c].sum()\n",
        "\n",
        "  recall = (TP[c] / (TP[c]+FN))\n",
        "  precision = (TP[c] / (TP[c]+FP))\n",
        "  specificity = (TN / (TN+FP))\n",
        "  f1Score = (2 * precision * recall)/(precision+recall)\n",
        "  FPR = (FP/(FP+TN))\n",
        "  accuracy = ((TP[c]+TN)/(TP[c]+TN+FP+FN))\n",
        "\n",
        "\n",
        "  print('Class {}\\tTP {}\\tTN {}\\tFP {}\\tFN {}\\tRecall {}\\tPrecision {}\\tF1_Score {}\\tTrue_Positive_Rate {}\\tFalse_Positive_Rate {}\\tSpecificity {}\\tAccuracy {}'.format(\n",
        "            c, TP[c], TN, FP, FN,recall,precision,f1Score,recall,FPR, specificity,accuracy))\n",
        "#   print('Sensitivity = {}'.format(sensitivity))\n",
        "#   print('Specificity = {}'.format(specificity))"
      ],
      "execution_count": null,
      "outputs": [
        {
          "output_type": "stream",
          "text": [
            "Class 0\tTP 60.0\tTN 12567.0\tFP 3.0\tFN 0.0\tRecall 1.0\tPrecision 0.9523809552192688\tF1_Score 0.9756097793579102\tTrue_Positive_Rate 1.0\tFalse_Positive_Rate 0.00023866348783485591\tSpecificity 0.9997613430023193\tAccuracy 0.9997624754905701\n",
            "Class 1\tTP 714.0\tTN 11898.0\tFP 12.0\tFN 6.0\tRecall 0.9916666746139526\tPrecision 0.9834710955619812\tF1_Score 0.9875519275665283\tTrue_Positive_Rate 0.9916666746139526\tFalse_Positive_Rate 0.0010075566824525595\tSpecificity 0.9989924430847168\tAccuracy 0.9985747933387756\n",
            "Class 2\tTP 744.0\tTN 11871.0\tFP 9.0\tFN 6.0\tRecall 0.9919999837875366\tPrecision 0.9880478382110596\tF1_Score 0.9900199770927429\tTrue_Positive_Rate 0.9919999837875366\tFalse_Positive_Rate 0.0007575757335871458\tSpecificity 0.9992424249649048\tAccuracy 0.9988123774528503\n",
            "Class 3\tTP 442.0\tTN 12166.0\tFP 14.0\tFN 8.0\tRecall 0.9822221994400024\tPrecision 0.969298243522644\tF1_Score 0.9757174253463745\tTrue_Positive_Rate 0.9822221994400024\tFalse_Positive_Rate 0.001149425283074379\tSpecificity 0.9988505840301514\tAccuracy 0.998258113861084\n",
            "Class 4\tTP 650.0\tTN 11967.0\tFP 3.0\tFN 10.0\tRecall 0.9848484992980957\tPrecision 0.9954057931900024\tF1_Score 0.9900990128517151\tTrue_Positive_Rate 0.9848484992980957\tFalse_Positive_Rate 0.0002506265591364354\tSpecificity 0.9997493624687195\tAccuracy 0.9989706873893738\n",
            "Class 5\tTP 617.0\tTN 11970.0\tFP 30.0\tFN 13.0\tRecall 0.9793650507926941\tPrecision 0.9536321759223938\tF1_Score 0.9663273096084595\tTrue_Positive_Rate 0.9793650507926941\tFalse_Positive_Rate 0.0024999999441206455\tSpecificity 0.9975000023841858\tAccuracy 0.9965953826904297\n",
            "Class 6\tTP 129.0\tTN 12480.0\tFP 0.0\tFN 21.0\tRecall 0.8600000143051147\tPrecision 1.0\tF1_Score 0.9247311949729919\tTrue_Positive_Rate 0.8600000143051147\tFalse_Positive_Rate 0.0\tSpecificity 1.0\tAccuracy 0.9983372688293457\n",
            "Class 7\tTP 446.0\tTN 12156.0\tFP 24.0\tFN 4.0\tRecall 0.9911110997200012\tPrecision 0.9489361643791199\tF1_Score 0.969565212726593\tTrue_Positive_Rate 0.9911110997200012\tFalse_Positive_Rate 0.001970443408936262\tSpecificity 0.9980295300483704\tAccuracy 0.9977830648422241\n",
            "Class 8\tTP 421.0\tTN 12170.0\tFP 10.0\tFN 29.0\tRecall 0.9355555772781372\tPrecision 0.9767981171607971\tF1_Score 0.9557321071624756\tTrue_Positive_Rate 0.9355555772781372\tFalse_Positive_Rate 0.0008210180676542222\tSpecificity 0.9991790056228638\tAccuracy 0.9969121217727661\n",
            "Class 9\tTP 479.0\tTN 12136.0\tFP 14.0\tFN 1.0\tRecall 0.9979166388511658\tPrecision 0.9716024398803711\tF1_Score 0.9845837354660034\tTrue_Positive_Rate 0.9979166388511658\tFalse_Positive_Rate 0.0011522633722051978\tSpecificity 0.9988477230072021\tAccuracy 0.9988123774528503\n",
            "Class 10\tTP 653.0\tTN 11963.0\tFP 7.0\tFN 7.0\tRecall 0.989393949508667\tPrecision 0.989393949508667\tF1_Score 0.989393949508667\tTrue_Positive_Rate 0.989393949508667\tFalse_Positive_Rate 0.0005847953143529594\tSpecificity 0.9994152188301086\tAccuracy 0.9988915324211121\n",
            "Class 11\tTP 416.0\tTN 12199.0\tFP 11.0\tFN 4.0\tRecall 0.9904761910438538\tPrecision 0.9742388725280762\tF1_Score 0.9822904467582703\tTrue_Positive_Rate 0.9904761910438538\tFalse_Positive_Rate 0.0009009009227156639\tSpecificity 0.99909907579422\tAccuracy 0.9988123774528503\n",
            "Class 12\tTP 685.0\tTN 11934.0\tFP 6.0\tFN 5.0\tRecall 0.9927536249160767\tPrecision 0.9913169145584106\tF1_Score 0.9920347929000854\tTrue_Positive_Rate 0.9927536249160767\tFalse_Positive_Rate 0.0005025125574320555\tSpecificity 0.9994974732398987\tAccuracy 0.999129056930542\n",
            "Class 13\tTP 715.0\tTN 11905.0\tFP 5.0\tFN 5.0\tRecall 0.9930555820465088\tPrecision 0.9930555820465088\tF1_Score 0.9930555820465088\tTrue_Positive_Rate 0.9930555820465088\tFalse_Positive_Rate 0.0004198152746539563\tSpecificity 0.9995802044868469\tAccuracy 0.9992082118988037\n",
            "Class 14\tTP 268.0\tTN 12355.0\tFP 5.0\tFN 2.0\tRecall 0.9925925731658936\tPrecision 0.9816849827766418\tF1_Score 0.9871086478233337\tTrue_Positive_Rate 0.9925925731658936\tFalse_Positive_Rate 0.00040453075780533254\tSpecificity 0.9995954632759094\tAccuracy 0.9994457364082336\n",
            "Class 15\tTP 210.0\tTN 12418.0\tFP 2.0\tFN 0.0\tRecall 1.0\tPrecision 0.9905660152435303\tF1_Score 0.9952606558799744\tTrue_Positive_Rate 1.0\tFalse_Positive_Rate 0.00016103059169836342\tSpecificity 0.9998389482498169\tAccuracy 0.9998416304588318\n",
            "Class 16\tTP 148.0\tTN 12480.0\tFP 0.0\tFN 2.0\tRecall 0.9866666793823242\tPrecision 1.0\tF1_Score 0.9932885766029358\tTrue_Positive_Rate 0.9866666793823242\tFalse_Positive_Rate 0.0\tSpecificity 1.0\tAccuracy 0.9998416304588318\n",
            "Class 17\tTP 355.0\tTN 12269.0\tFP 1.0\tFN 5.0\tRecall 0.9861111044883728\tPrecision 0.9971910119056702\tF1_Score 0.9916201233863831\tTrue_Positive_Rate 0.9861111044883728\tFalse_Positive_Rate 8.149959467118606e-05\tSpecificity 0.999918520450592\tAccuracy 0.9995249509811401\n",
            "Class 18\tTP 368.0\tTN 12231.0\tFP 9.0\tFN 22.0\tRecall 0.9435897469520569\tPrecision 0.9761273264884949\tF1_Score 0.9595828056335449\tTrue_Positive_Rate 0.9435897469520569\tFalse_Positive_Rate 0.000735294132027775\tSpecificity 0.9992647171020508\tAccuracy 0.9975455403327942\n",
            "Class 19\tTP 60.0\tTN 12569.0\tFP 1.0\tFN 0.0\tRecall 1.0\tPrecision 0.9836065769195557\tF1_Score 0.9917355179786682\tTrue_Positive_Rate 1.0\tFalse_Positive_Rate 7.955449837027118e-05\tSpecificity 0.9999204277992249\tAccuracy 0.9999208450317383\n",
            "Class 20\tTP 89.0\tTN 12495.0\tFP 45.0\tFN 1.0\tRecall 0.9888888597488403\tPrecision 0.6641790866851807\tF1_Score 0.7946428656578064\tTrue_Positive_Rate 0.9888888597488403\tFalse_Positive_Rate 0.003588516730815172\tSpecificity 0.9964115023612976\tAccuracy 0.9963578581809998\n",
            "Class 21\tTP 60.0\tTN 12534.0\tFP 6.0\tFN 30.0\tRecall 0.6666666865348816\tPrecision 0.9090909361839294\tF1_Score 0.7692307829856873\tTrue_Positive_Rate 0.6666666865348816\tFalse_Positive_Rate 0.00047846889356151223\tSpecificity 0.9995215535163879\tAccuracy 0.997149646282196\n",
            "Class 22\tTP 91.0\tTN 12510.0\tFP 0.0\tFN 29.0\tRecall 0.7583333253860474\tPrecision 1.0\tF1_Score 0.8625592589378357\tTrue_Positive_Rate 0.7583333253860474\tFalse_Positive_Rate 0.0\tSpecificity 1.0\tAccuracy 0.9977038502693176\n",
            "Class 23\tTP 138.0\tTN 12474.0\tFP 6.0\tFN 12.0\tRecall 0.9200000166893005\tPrecision 0.9583333134651184\tF1_Score 0.9387754797935486\tTrue_Positive_Rate 0.9200000166893005\tFalse_Positive_Rate 0.000480769231216982\tSpecificity 0.9995192289352417\tAccuracy 0.9985747933387756\n",
            "Class 24\tTP 87.0\tTN 12530.0\tFP 10.0\tFN 3.0\tRecall 0.9666666388511658\tPrecision 0.8969072103500366\tF1_Score 0.9304813146591187\tTrue_Positive_Rate 0.9666666388511658\tFalse_Positive_Rate 0.0007974481559358537\tSpecificity 0.99920254945755\tAccuracy 0.9989706873893738\n",
            "Class 25\tTP 461.0\tTN 12118.0\tFP 32.0\tFN 19.0\tRecall 0.9604166746139526\tPrecision 0.9350912570953369\tF1_Score 0.9475848078727722\tTrue_Positive_Rate 0.9604166746139526\tFalse_Positive_Rate 0.002633744850754738\tSpecificity 0.9973662495613098\tAccuracy 0.9959620237350464\n",
            "Class 26\tTP 147.0\tTN 12448.0\tFP 2.0\tFN 33.0\tRecall 0.8166666626930237\tPrecision 0.9865771532058716\tF1_Score 0.8936169743537903\tTrue_Positive_Rate 0.8166666626930237\tFalse_Positive_Rate 0.00016064256487879902\tSpecificity 0.9998393654823303\tAccuracy 0.9972288012504578\n",
            "Class 27\tTP 44.0\tTN 12567.0\tFP 3.0\tFN 16.0\tRecall 0.7333333492279053\tPrecision 0.936170220375061\tF1_Score 0.8224299550056458\tTrue_Positive_Rate 0.7333333492279053\tFalse_Positive_Rate 0.00023866348783485591\tSpecificity 0.9997613430023193\tAccuracy 0.9984956383705139\n",
            "Class 28\tTP 149.0\tTN 12458.0\tFP 22.0\tFN 1.0\tRecall 0.9933333396911621\tPrecision 0.871345043182373\tF1_Score 0.928348958492279\tTrue_Positive_Rate 0.9933333396911621\tFalse_Positive_Rate 0.0017628205241635442\tSpecificity 0.9982371926307678\tAccuracy 0.9981789588928223\n",
            "Class 29\tTP 89.0\tTN 12537.0\tFP 3.0\tFN 1.0\tRecall 0.9888888597488403\tPrecision 0.967391312122345\tF1_Score 0.9780219793319702\tTrue_Positive_Rate 0.9888888597488403\tFalse_Positive_Rate 0.00023923444678075612\tSpecificity 0.9997607469558716\tAccuracy 0.9996833205223083\n",
            "Class 30\tTP 134.0\tTN 12477.0\tFP 3.0\tFN 16.0\tRecall 0.8933333158493042\tPrecision 0.9781022071838379\tF1_Score 0.9337979555130005\tTrue_Positive_Rate 0.8933333158493042\tFalse_Positive_Rate 0.000240384615608491\tSpecificity 0.9997596144676208\tAccuracy 0.9984956383705139\n",
            "Class 31\tTP 268.0\tTN 12355.0\tFP 5.0\tFN 2.0\tRecall 0.9925925731658936\tPrecision 0.9816849827766418\tF1_Score 0.9871086478233337\tTrue_Positive_Rate 0.9925925731658936\tFalse_Positive_Rate 0.00040453075780533254\tSpecificity 0.9995954632759094\tAccuracy 0.9994457364082336\n",
            "Class 32\tTP 60.0\tTN 12569.0\tFP 1.0\tFN 0.0\tRecall 1.0\tPrecision 0.9836065769195557\tF1_Score 0.9917355179786682\tTrue_Positive_Rate 1.0\tFalse_Positive_Rate 7.955449837027118e-05\tSpecificity 0.9999204277992249\tAccuracy 0.9999208450317383\n",
            "Class 33\tTP 208.0\tTN 12416.0\tFP 4.0\tFN 2.0\tRecall 0.9904761910438538\tPrecision 0.9811320900917053\tF1_Score 0.9857820272445679\tTrue_Positive_Rate 0.9904761910438538\tFalse_Positive_Rate 0.00032206118339672685\tSpecificity 0.9996779561042786\tAccuracy 0.9995249509811401\n",
            "Class 34\tTP 119.0\tTN 12508.0\tFP 2.0\tFN 1.0\tRecall 0.9916666746139526\tPrecision 0.9834710955619812\tF1_Score 0.9875519275665283\tTrue_Positive_Rate 0.9916666746139526\tFalse_Positive_Rate 0.0001598720991751179\tSpecificity 0.9998401403427124\tAccuracy 0.9997624754905701\n",
            "Class 35\tTP 389.0\tTN 12239.0\tFP 1.0\tFN 1.0\tRecall 0.9974358677864075\tPrecision 0.9974358677864075\tF1_Score 0.9974358677864075\tTrue_Positive_Rate 0.9974358677864075\tFalse_Positive_Rate 8.169934881152585e-05\tSpecificity 0.9999182820320129\tAccuracy 0.9998416304588318\n",
            "Class 36\tTP 119.0\tTN 12506.0\tFP 4.0\tFN 1.0\tRecall 0.9916666746139526\tPrecision 0.9674796462059021\tF1_Score 0.9794238805770874\tTrue_Positive_Rate 0.9916666746139526\tFalse_Positive_Rate 0.0003197441983502358\tSpecificity 0.9996802806854248\tAccuracy 0.9996041059494019\n",
            "Class 37\tTP 59.0\tTN 12567.0\tFP 3.0\tFN 1.0\tRecall 0.9833333492279053\tPrecision 0.9516128897666931\tF1_Score 0.9672130942344666\tTrue_Positive_Rate 0.9833333492279053\tFalse_Positive_Rate 0.00023866348783485591\tSpecificity 0.9997613430023193\tAccuracy 0.9996833205223083\n",
            "Class 38\tTP 682.0\tTN 11924.0\tFP 16.0\tFN 8.0\tRecall 0.9884058237075806\tPrecision 0.9770773649215698\tF1_Score 0.9827089309692383\tTrue_Positive_Rate 0.9884058237075806\tFalse_Positive_Rate 0.0013400334864854813\tSpecificity 0.9986599683761597\tAccuracy 0.9980997443199158\n",
            "Class 39\tTP 90.0\tTN 12539.0\tFP 1.0\tFN 0.0\tRecall 1.0\tPrecision 0.9890109896659851\tF1_Score 0.9944751262664795\tTrue_Positive_Rate 1.0\tFalse_Positive_Rate 7.974481559358537e-05\tSpecificity 0.9999202489852905\tAccuracy 0.9999208450317383\n",
            "Class 40\tTP 84.0\tTN 12538.0\tFP 2.0\tFN 6.0\tRecall 0.9333333373069763\tPrecision 0.9767441749572754\tF1_Score 0.9545454382896423\tTrue_Positive_Rate 0.9333333373069763\tFalse_Positive_Rate 0.00015948963118717074\tSpecificity 0.999840497970581\tAccuracy 0.9993665814399719\n",
            "Class 41\tTP 54.0\tTN 12556.0\tFP 14.0\tFN 6.0\tRecall 0.8999999761581421\tPrecision 0.7941176295280457\tF1_Score 0.84375\tTrue_Positive_Rate 0.8999999761581421\tFalse_Positive_Rate 0.0011137629626318812\tSpecificity 0.998886227607727\tAccuracy 0.9984164834022522\n",
            "Class 42\tTP 72.0\tTN 12534.0\tFP 6.0\tFN 18.0\tRecall 0.800000011920929\tPrecision 0.9230769276618958\tF1_Score 0.8571428656578064\tTrue_Positive_Rate 0.800000011920929\tFalse_Positive_Rate 0.00047846889356151223\tSpecificity 0.9995215535163879\tAccuracy 0.9980997443199158\n"
          ],
          "name": "stdout"
        },
        {
          "output_type": "stream",
          "text": [
            "/opt/conda/conda-bld/pytorch_1591914880026/work/aten/src/ATen/native/IndexingUtils.h:20: UserWarning: indexing with dtype torch.uint8 is now deprecated, please use a dtype torch.bool instead.\n",
            "/opt/conda/conda-bld/pytorch_1591914880026/work/aten/src/ATen/native/IndexingUtils.h:20: UserWarning: indexing with dtype torch.uint8 is now deprecated, please use a dtype torch.bool instead.\n",
            "/opt/conda/conda-bld/pytorch_1591914880026/work/aten/src/ATen/native/IndexingUtils.h:20: UserWarning: indexing with dtype torch.uint8 is now deprecated, please use a dtype torch.bool instead.\n",
            "/opt/conda/conda-bld/pytorch_1591914880026/work/aten/src/ATen/native/IndexingUtils.h:20: UserWarning: indexing with dtype torch.uint8 is now deprecated, please use a dtype torch.bool instead.\n",
            "/opt/conda/conda-bld/pytorch_1591914880026/work/aten/src/ATen/native/IndexingUtils.h:20: UserWarning: indexing with dtype torch.uint8 is now deprecated, please use a dtype torch.bool instead.\n",
            "/opt/conda/conda-bld/pytorch_1591914880026/work/aten/src/ATen/native/IndexingUtils.h:20: UserWarning: indexing with dtype torch.uint8 is now deprecated, please use a dtype torch.bool instead.\n",
            "/opt/conda/conda-bld/pytorch_1591914880026/work/aten/src/ATen/native/IndexingUtils.h:20: UserWarning: indexing with dtype torch.uint8 is now deprecated, please use a dtype torch.bool instead.\n",
            "/opt/conda/conda-bld/pytorch_1591914880026/work/aten/src/ATen/native/IndexingUtils.h:20: UserWarning: indexing with dtype torch.uint8 is now deprecated, please use a dtype torch.bool instead.\n",
            "/opt/conda/conda-bld/pytorch_1591914880026/work/aten/src/ATen/native/IndexingUtils.h:20: UserWarning: indexing with dtype torch.uint8 is now deprecated, please use a dtype torch.bool instead.\n",
            "/opt/conda/conda-bld/pytorch_1591914880026/work/aten/src/ATen/native/IndexingUtils.h:20: UserWarning: indexing with dtype torch.uint8 is now deprecated, please use a dtype torch.bool instead.\n",
            "/opt/conda/conda-bld/pytorch_1591914880026/work/aten/src/ATen/native/IndexingUtils.h:20: UserWarning: indexing with dtype torch.uint8 is now deprecated, please use a dtype torch.bool instead.\n",
            "/opt/conda/conda-bld/pytorch_1591914880026/work/aten/src/ATen/native/IndexingUtils.h:20: UserWarning: indexing with dtype torch.uint8 is now deprecated, please use a dtype torch.bool instead.\n",
            "/opt/conda/conda-bld/pytorch_1591914880026/work/aten/src/ATen/native/IndexingUtils.h:20: UserWarning: indexing with dtype torch.uint8 is now deprecated, please use a dtype torch.bool instead.\n",
            "/opt/conda/conda-bld/pytorch_1591914880026/work/aten/src/ATen/native/IndexingUtils.h:20: UserWarning: indexing with dtype torch.uint8 is now deprecated, please use a dtype torch.bool instead.\n",
            "/opt/conda/conda-bld/pytorch_1591914880026/work/aten/src/ATen/native/IndexingUtils.h:20: UserWarning: indexing with dtype torch.uint8 is now deprecated, please use a dtype torch.bool instead.\n",
            "/opt/conda/conda-bld/pytorch_1591914880026/work/aten/src/ATen/native/IndexingUtils.h:20: UserWarning: indexing with dtype torch.uint8 is now deprecated, please use a dtype torch.bool instead.\n",
            "/opt/conda/conda-bld/pytorch_1591914880026/work/aten/src/ATen/native/IndexingUtils.h:20: UserWarning: indexing with dtype torch.uint8 is now deprecated, please use a dtype torch.bool instead.\n",
            "/opt/conda/conda-bld/pytorch_1591914880026/work/aten/src/ATen/native/IndexingUtils.h:20: UserWarning: indexing with dtype torch.uint8 is now deprecated, please use a dtype torch.bool instead.\n",
            "/opt/conda/conda-bld/pytorch_1591914880026/work/aten/src/ATen/native/IndexingUtils.h:20: UserWarning: indexing with dtype torch.uint8 is now deprecated, please use a dtype torch.bool instead.\n",
            "/opt/conda/conda-bld/pytorch_1591914880026/work/aten/src/ATen/native/IndexingUtils.h:20: UserWarning: indexing with dtype torch.uint8 is now deprecated, please use a dtype torch.bool instead.\n",
            "/opt/conda/conda-bld/pytorch_1591914880026/work/aten/src/ATen/native/IndexingUtils.h:20: UserWarning: indexing with dtype torch.uint8 is now deprecated, please use a dtype torch.bool instead.\n",
            "/opt/conda/conda-bld/pytorch_1591914880026/work/aten/src/ATen/native/IndexingUtils.h:20: UserWarning: indexing with dtype torch.uint8 is now deprecated, please use a dtype torch.bool instead.\n",
            "/opt/conda/conda-bld/pytorch_1591914880026/work/aten/src/ATen/native/IndexingUtils.h:20: UserWarning: indexing with dtype torch.uint8 is now deprecated, please use a dtype torch.bool instead.\n",
            "/opt/conda/conda-bld/pytorch_1591914880026/work/aten/src/ATen/native/IndexingUtils.h:20: UserWarning: indexing with dtype torch.uint8 is now deprecated, please use a dtype torch.bool instead.\n",
            "/opt/conda/conda-bld/pytorch_1591914880026/work/aten/src/ATen/native/IndexingUtils.h:20: UserWarning: indexing with dtype torch.uint8 is now deprecated, please use a dtype torch.bool instead.\n",
            "/opt/conda/conda-bld/pytorch_1591914880026/work/aten/src/ATen/native/IndexingUtils.h:20: UserWarning: indexing with dtype torch.uint8 is now deprecated, please use a dtype torch.bool instead.\n",
            "/opt/conda/conda-bld/pytorch_1591914880026/work/aten/src/ATen/native/IndexingUtils.h:20: UserWarning: indexing with dtype torch.uint8 is now deprecated, please use a dtype torch.bool instead.\n",
            "/opt/conda/conda-bld/pytorch_1591914880026/work/aten/src/ATen/native/IndexingUtils.h:20: UserWarning: indexing with dtype torch.uint8 is now deprecated, please use a dtype torch.bool instead.\n",
            "/opt/conda/conda-bld/pytorch_1591914880026/work/aten/src/ATen/native/IndexingUtils.h:20: UserWarning: indexing with dtype torch.uint8 is now deprecated, please use a dtype torch.bool instead.\n",
            "/opt/conda/conda-bld/pytorch_1591914880026/work/aten/src/ATen/native/IndexingUtils.h:20: UserWarning: indexing with dtype torch.uint8 is now deprecated, please use a dtype torch.bool instead.\n",
            "/opt/conda/conda-bld/pytorch_1591914880026/work/aten/src/ATen/native/IndexingUtils.h:20: UserWarning: indexing with dtype torch.uint8 is now deprecated, please use a dtype torch.bool instead.\n",
            "/opt/conda/conda-bld/pytorch_1591914880026/work/aten/src/ATen/native/IndexingUtils.h:20: UserWarning: indexing with dtype torch.uint8 is now deprecated, please use a dtype torch.bool instead.\n",
            "/opt/conda/conda-bld/pytorch_1591914880026/work/aten/src/ATen/native/IndexingUtils.h:20: UserWarning: indexing with dtype torch.uint8 is now deprecated, please use a dtype torch.bool instead.\n",
            "/opt/conda/conda-bld/pytorch_1591914880026/work/aten/src/ATen/native/IndexingUtils.h:20: UserWarning: indexing with dtype torch.uint8 is now deprecated, please use a dtype torch.bool instead.\n",
            "/opt/conda/conda-bld/pytorch_1591914880026/work/aten/src/ATen/native/IndexingUtils.h:20: UserWarning: indexing with dtype torch.uint8 is now deprecated, please use a dtype torch.bool instead.\n",
            "/opt/conda/conda-bld/pytorch_1591914880026/work/aten/src/ATen/native/IndexingUtils.h:20: UserWarning: indexing with dtype torch.uint8 is now deprecated, please use a dtype torch.bool instead.\n",
            "/opt/conda/conda-bld/pytorch_1591914880026/work/aten/src/ATen/native/IndexingUtils.h:20: UserWarning: indexing with dtype torch.uint8 is now deprecated, please use a dtype torch.bool instead.\n",
            "/opt/conda/conda-bld/pytorch_1591914880026/work/aten/src/ATen/native/IndexingUtils.h:20: UserWarning: indexing with dtype torch.uint8 is now deprecated, please use a dtype torch.bool instead.\n",
            "/opt/conda/conda-bld/pytorch_1591914880026/work/aten/src/ATen/native/IndexingUtils.h:20: UserWarning: indexing with dtype torch.uint8 is now deprecated, please use a dtype torch.bool instead.\n",
            "/opt/conda/conda-bld/pytorch_1591914880026/work/aten/src/ATen/native/IndexingUtils.h:20: UserWarning: indexing with dtype torch.uint8 is now deprecated, please use a dtype torch.bool instead.\n",
            "/opt/conda/conda-bld/pytorch_1591914880026/work/aten/src/ATen/native/IndexingUtils.h:20: UserWarning: indexing with dtype torch.uint8 is now deprecated, please use a dtype torch.bool instead.\n",
            "/opt/conda/conda-bld/pytorch_1591914880026/work/aten/src/ATen/native/IndexingUtils.h:20: UserWarning: indexing with dtype torch.uint8 is now deprecated, please use a dtype torch.bool instead.\n",
            "/opt/conda/conda-bld/pytorch_1591914880026/work/aten/src/ATen/native/IndexingUtils.h:20: UserWarning: indexing with dtype torch.uint8 is now deprecated, please use a dtype torch.bool instead.\n",
            "/opt/conda/conda-bld/pytorch_1591914880026/work/aten/src/ATen/native/IndexingUtils.h:20: UserWarning: indexing with dtype torch.uint8 is now deprecated, please use a dtype torch.bool instead.\n",
            "/opt/conda/conda-bld/pytorch_1591914880026/work/aten/src/ATen/native/IndexingUtils.h:20: UserWarning: indexing with dtype torch.uint8 is now deprecated, please use a dtype torch.bool instead.\n",
            "/opt/conda/conda-bld/pytorch_1591914880026/work/aten/src/ATen/native/IndexingUtils.h:20: UserWarning: indexing with dtype torch.uint8 is now deprecated, please use a dtype torch.bool instead.\n",
            "/opt/conda/conda-bld/pytorch_1591914880026/work/aten/src/ATen/native/IndexingUtils.h:20: UserWarning: indexing with dtype torch.uint8 is now deprecated, please use a dtype torch.bool instead.\n",
            "/opt/conda/conda-bld/pytorch_1591914880026/work/aten/src/ATen/native/IndexingUtils.h:20: UserWarning: indexing with dtype torch.uint8 is now deprecated, please use a dtype torch.bool instead.\n",
            "/opt/conda/conda-bld/pytorch_1591914880026/work/aten/src/ATen/native/IndexingUtils.h:20: UserWarning: indexing with dtype torch.uint8 is now deprecated, please use a dtype torch.bool instead.\n",
            "/opt/conda/conda-bld/pytorch_1591914880026/work/aten/src/ATen/native/IndexingUtils.h:20: UserWarning: indexing with dtype torch.uint8 is now deprecated, please use a dtype torch.bool instead.\n",
            "/opt/conda/conda-bld/pytorch_1591914880026/work/aten/src/ATen/native/IndexingUtils.h:20: UserWarning: indexing with dtype torch.uint8 is now deprecated, please use a dtype torch.bool instead.\n",
            "/opt/conda/conda-bld/pytorch_1591914880026/work/aten/src/ATen/native/IndexingUtils.h:20: UserWarning: indexing with dtype torch.uint8 is now deprecated, please use a dtype torch.bool instead.\n",
            "/opt/conda/conda-bld/pytorch_1591914880026/work/aten/src/ATen/native/IndexingUtils.h:20: UserWarning: indexing with dtype torch.uint8 is now deprecated, please use a dtype torch.bool instead.\n",
            "/opt/conda/conda-bld/pytorch_1591914880026/work/aten/src/ATen/native/IndexingUtils.h:20: UserWarning: indexing with dtype torch.uint8 is now deprecated, please use a dtype torch.bool instead.\n",
            "/opt/conda/conda-bld/pytorch_1591914880026/work/aten/src/ATen/native/IndexingUtils.h:20: UserWarning: indexing with dtype torch.uint8 is now deprecated, please use a dtype torch.bool instead.\n",
            "/opt/conda/conda-bld/pytorch_1591914880026/work/aten/src/ATen/native/IndexingUtils.h:20: UserWarning: indexing with dtype torch.uint8 is now deprecated, please use a dtype torch.bool instead.\n",
            "/opt/conda/conda-bld/pytorch_1591914880026/work/aten/src/ATen/native/IndexingUtils.h:20: UserWarning: indexing with dtype torch.uint8 is now deprecated, please use a dtype torch.bool instead.\n",
            "/opt/conda/conda-bld/pytorch_1591914880026/work/aten/src/ATen/native/IndexingUtils.h:20: UserWarning: indexing with dtype torch.uint8 is now deprecated, please use a dtype torch.bool instead.\n",
            "/opt/conda/conda-bld/pytorch_1591914880026/work/aten/src/ATen/native/IndexingUtils.h:20: UserWarning: indexing with dtype torch.uint8 is now deprecated, please use a dtype torch.bool instead.\n",
            "/opt/conda/conda-bld/pytorch_1591914880026/work/aten/src/ATen/native/IndexingUtils.h:20: UserWarning: indexing with dtype torch.uint8 is now deprecated, please use a dtype torch.bool instead.\n",
            "/opt/conda/conda-bld/pytorch_1591914880026/work/aten/src/ATen/native/IndexingUtils.h:20: UserWarning: indexing with dtype torch.uint8 is now deprecated, please use a dtype torch.bool instead.\n",
            "/opt/conda/conda-bld/pytorch_1591914880026/work/aten/src/ATen/native/IndexingUtils.h:20: UserWarning: indexing with dtype torch.uint8 is now deprecated, please use a dtype torch.bool instead.\n",
            "/opt/conda/conda-bld/pytorch_1591914880026/work/aten/src/ATen/native/IndexingUtils.h:20: UserWarning: indexing with dtype torch.uint8 is now deprecated, please use a dtype torch.bool instead.\n",
            "/opt/conda/conda-bld/pytorch_1591914880026/work/aten/src/ATen/native/IndexingUtils.h:20: UserWarning: indexing with dtype torch.uint8 is now deprecated, please use a dtype torch.bool instead.\n",
            "/opt/conda/conda-bld/pytorch_1591914880026/work/aten/src/ATen/native/IndexingUtils.h:20: UserWarning: indexing with dtype torch.uint8 is now deprecated, please use a dtype torch.bool instead.\n",
            "/opt/conda/conda-bld/pytorch_1591914880026/work/aten/src/ATen/native/IndexingUtils.h:20: UserWarning: indexing with dtype torch.uint8 is now deprecated, please use a dtype torch.bool instead.\n",
            "/opt/conda/conda-bld/pytorch_1591914880026/work/aten/src/ATen/native/IndexingUtils.h:20: UserWarning: indexing with dtype torch.uint8 is now deprecated, please use a dtype torch.bool instead.\n",
            "/opt/conda/conda-bld/pytorch_1591914880026/work/aten/src/ATen/native/IndexingUtils.h:20: UserWarning: indexing with dtype torch.uint8 is now deprecated, please use a dtype torch.bool instead.\n",
            "/opt/conda/conda-bld/pytorch_1591914880026/work/aten/src/ATen/native/IndexingUtils.h:20: UserWarning: indexing with dtype torch.uint8 is now deprecated, please use a dtype torch.bool instead.\n",
            "/opt/conda/conda-bld/pytorch_1591914880026/work/aten/src/ATen/native/IndexingUtils.h:20: UserWarning: indexing with dtype torch.uint8 is now deprecated, please use a dtype torch.bool instead.\n",
            "/opt/conda/conda-bld/pytorch_1591914880026/work/aten/src/ATen/native/IndexingUtils.h:20: UserWarning: indexing with dtype torch.uint8 is now deprecated, please use a dtype torch.bool instead.\n",
            "/opt/conda/conda-bld/pytorch_1591914880026/work/aten/src/ATen/native/IndexingUtils.h:20: UserWarning: indexing with dtype torch.uint8 is now deprecated, please use a dtype torch.bool instead.\n",
            "/opt/conda/conda-bld/pytorch_1591914880026/work/aten/src/ATen/native/IndexingUtils.h:20: UserWarning: indexing with dtype torch.uint8 is now deprecated, please use a dtype torch.bool instead.\n",
            "/opt/conda/conda-bld/pytorch_1591914880026/work/aten/src/ATen/native/IndexingUtils.h:20: UserWarning: indexing with dtype torch.uint8 is now deprecated, please use a dtype torch.bool instead.\n",
            "/opt/conda/conda-bld/pytorch_1591914880026/work/aten/src/ATen/native/IndexingUtils.h:20: UserWarning: indexing with dtype torch.uint8 is now deprecated, please use a dtype torch.bool instead.\n",
            "/opt/conda/conda-bld/pytorch_1591914880026/work/aten/src/ATen/native/IndexingUtils.h:20: UserWarning: indexing with dtype torch.uint8 is now deprecated, please use a dtype torch.bool instead.\n",
            "/opt/conda/conda-bld/pytorch_1591914880026/work/aten/src/ATen/native/IndexingUtils.h:20: UserWarning: indexing with dtype torch.uint8 is now deprecated, please use a dtype torch.bool instead.\n",
            "/opt/conda/conda-bld/pytorch_1591914880026/work/aten/src/ATen/native/IndexingUtils.h:20: UserWarning: indexing with dtype torch.uint8 is now deprecated, please use a dtype torch.bool instead.\n",
            "/opt/conda/conda-bld/pytorch_1591914880026/work/aten/src/ATen/native/IndexingUtils.h:20: UserWarning: indexing with dtype torch.uint8 is now deprecated, please use a dtype torch.bool instead.\n",
            "/opt/conda/conda-bld/pytorch_1591914880026/work/aten/src/ATen/native/IndexingUtils.h:20: UserWarning: indexing with dtype torch.uint8 is now deprecated, please use a dtype torch.bool instead.\n",
            "/opt/conda/conda-bld/pytorch_1591914880026/work/aten/src/ATen/native/IndexingUtils.h:20: UserWarning: indexing with dtype torch.uint8 is now deprecated, please use a dtype torch.bool instead.\n",
            "/opt/conda/conda-bld/pytorch_1591914880026/work/aten/src/ATen/native/IndexingUtils.h:20: UserWarning: indexing with dtype torch.uint8 is now deprecated, please use a dtype torch.bool instead.\n",
            "/opt/conda/conda-bld/pytorch_1591914880026/work/aten/src/ATen/native/IndexingUtils.h:20: UserWarning: indexing with dtype torch.uint8 is now deprecated, please use a dtype torch.bool instead.\n",
            "/opt/conda/conda-bld/pytorch_1591914880026/work/aten/src/ATen/native/IndexingUtils.h:20: UserWarning: indexing with dtype torch.uint8 is now deprecated, please use a dtype torch.bool instead.\n",
            "/opt/conda/conda-bld/pytorch_1591914880026/work/aten/src/ATen/native/IndexingUtils.h:20: UserWarning: indexing with dtype torch.uint8 is now deprecated, please use a dtype torch.bool instead.\n",
            "/opt/conda/conda-bld/pytorch_1591914880026/work/aten/src/ATen/native/IndexingUtils.h:20: UserWarning: indexing with dtype torch.uint8 is now deprecated, please use a dtype torch.bool instead.\n"
          ],
          "name": "stderr"
        }
      ]
    },
    {
      "cell_type": "code",
      "metadata": {
        "trusted": true,
        "id": "__iakCUwMQUk",
        "colab_type": "code",
        "colab": {}
      },
      "source": [
        ""
      ],
      "execution_count": null,
      "outputs": []
    }
  ]
}